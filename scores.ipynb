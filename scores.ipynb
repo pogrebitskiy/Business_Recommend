{
 "cells": [
  {
   "cell_type": "code",
   "execution_count": 179,
   "metadata": {
    "collapsed": true,
    "ExecuteTime": {
     "start_time": "2023-04-02T10:24:55.765697Z",
     "end_time": "2023-04-02T10:24:55.769827Z"
    }
   },
   "outputs": [],
   "source": [
    "from pymongo import MongoClient\n",
    "from pprint import pprint\n",
    "from pprint import pprint\n",
    "import math\n",
    "import json\n",
    "import pymongo\n",
    "from tqdm import tqdm\n",
    "from pymongo import GEOSPHERE"
   ]
  },
  {
   "cell_type": "code",
   "execution_count": 108,
   "outputs": [],
   "source": [
    "client = MongoClient()\n",
    "db = client['Restaurant_Recommend']\n",
    "restaurants = db['restaurant']\n",
    "reviews = db['review']"
   ],
   "metadata": {
    "collapsed": false,
    "ExecuteTime": {
     "start_time": "2023-04-01T16:03:48.481300Z",
     "end_time": "2023-04-01T16:03:48.504814Z"
    }
   }
  },
  {
   "cell_type": "code",
   "execution_count": 79,
   "outputs": [],
   "source": [
    "def calculate_adjusted_score(review):\n",
    "    rating = review['stars']\n",
    "    upvotes = review['useful']\n",
    "    if rating < 3:\n",
    "        return rating - math.log(upvotes)\n",
    "    elif rating > 3:\n",
    "        return rating + math.log(upvotes)\n",
    "\n",
    "    else:\n",
    "        return rating\n"
   ],
   "metadata": {
    "collapsed": false,
    "ExecuteTime": {
     "start_time": "2023-04-01T15:52:48.699585Z",
     "end_time": "2023-04-01T15:52:48.711503Z"
    }
   }
  },
  {
   "cell_type": "code",
   "execution_count": 161,
   "outputs": [
    {
     "data": {
      "text/plain": "8.912023005428146"
     },
     "execution_count": 161,
     "metadata": {},
     "output_type": "execute_result"
    }
   ],
   "source": [
    "calculate_usefulness_score(j)"
   ],
   "metadata": {
    "collapsed": false,
    "ExecuteTime": {
     "start_time": "2023-04-02T10:11:20.981744Z",
     "end_time": "2023-04-02T10:11:20.995486Z"
    }
   }
  },
  {
   "cell_type": "code",
   "execution_count": 160,
   "outputs": [],
   "source": [
    "j = {\n",
    " 'business_id': 'Pns2l4eNsfO8kk83dixA6A',\n",
    " 'cool': 1,\n",
    " 'date': '2012-05-02 18:07:38',\n",
    " 'funny': 2,\n",
    " 'review_id': '9vwYDBVI3ymdqcyJ5WW2Tg',\n",
    " 'stars': 5,\n",
    " 'text': \"I've had acupuncture treatments with Abby over the past few years \"\n",
    "         \"and I really can't say enough about how great my experiences have \"\n",
    "         'been.\\n'\n",
    "         '\\n'\n",
    "         'She has successfully treated me for everything from stress to colds '\n",
    "         'to menstrual cramps.  I was amazed that her medical qi gong '\n",
    "         \"treatments helped alleviate my chronic back pain.  I didn't think \"\n",
    "         'anything could help with that!  \\n'\n",
    "         '\\n'\n",
    "         'She is always very clear and upfront about treatments and '\n",
    "         'expectations.   And I love that she always has great advice on '\n",
    "         'herbs, supplements and natural remedies.\\n'\n",
    "         '\\n'\n",
    "         \"She just relocated to Los Gatos and I'm definitely going to miss \"\n",
    "         'having her in San Francisco!',\n",
    " 'useful': 50,\n",
    " 'user_id': 'e0imecnX_9MtLnS2rUZM-A'}"
   ],
   "metadata": {
    "collapsed": false,
    "ExecuteTime": {
     "start_time": "2023-04-02T10:11:18.369813Z",
     "end_time": "2023-04-02T10:11:18.373253Z"
    }
   }
  },
  {
   "cell_type": "code",
   "execution_count": 170,
   "outputs": [
    {
     "data": {
      "text/plain": "8.912023005428146"
     },
     "execution_count": 170,
     "metadata": {},
     "output_type": "execute_result"
    }
   ],
   "source": [
    "calculate_usefulness_score(j)"
   ],
   "metadata": {
    "collapsed": false,
    "ExecuteTime": {
     "start_time": "2023-04-02T10:15:17.129261Z",
     "end_time": "2023-04-02T10:15:17.134130Z"
    }
   }
  },
  {
   "cell_type": "code",
   "execution_count": 82,
   "outputs": [
    {
     "ename": "KeyboardInterrupt",
     "evalue": "",
     "output_type": "error",
     "traceback": [
      "\u001B[0;31m---------------------------------------------------------------------------\u001B[0m",
      "\u001B[0;31mKeyboardInterrupt\u001B[0m                         Traceback (most recent call last)",
      "Cell \u001B[0;32mIn[82], line 25\u001B[0m\n\u001B[1;32m      1\u001B[0m \u001B[38;5;66;03m# Update each review with an adjusted score\u001B[39;00m\n\u001B[1;32m      3\u001B[0m pipeline \u001B[38;5;241m=\u001B[39m [\n\u001B[1;32m      4\u001B[0m     {\n\u001B[1;32m      5\u001B[0m         \u001B[38;5;124m\"\u001B[39m\u001B[38;5;124m$addFields\u001B[39m\u001B[38;5;124m\"\u001B[39m: {\n\u001B[0;32m   (...)\u001B[0m\n\u001B[1;32m     22\u001B[0m     }\n\u001B[1;32m     23\u001B[0m ]\n\u001B[0;32m---> 25\u001B[0m \u001B[43mreviews\u001B[49m\u001B[38;5;241;43m.\u001B[39;49m\u001B[43mupdate_many\u001B[49m\u001B[43m(\u001B[49m\u001B[43m{\u001B[49m\u001B[43m}\u001B[49m\u001B[43m,\u001B[49m\u001B[43m \u001B[49m\u001B[43mpipeline\u001B[49m\u001B[43m)\u001B[49m\n",
      "File \u001B[0;32m~/opt/anaconda3/envs/ds/lib/python3.9/site-packages/pymongo/collection.py:1104\u001B[0m, in \u001B[0;36mCollection.update_many\u001B[0;34m(self, filter, update, upsert, array_filters, bypass_document_validation, collation, hint, session)\u001B[0m\n\u001B[1;32m   1100\u001B[0m common\u001B[38;5;241m.\u001B[39mvalidate_list_or_none(\u001B[38;5;124m'\u001B[39m\u001B[38;5;124marray_filters\u001B[39m\u001B[38;5;124m'\u001B[39m, array_filters)\n\u001B[1;32m   1102\u001B[0m write_concern \u001B[38;5;241m=\u001B[39m \u001B[38;5;28mself\u001B[39m\u001B[38;5;241m.\u001B[39m_write_concern_for(session)\n\u001B[1;32m   1103\u001B[0m \u001B[38;5;28;01mreturn\u001B[39;00m UpdateResult(\n\u001B[0;32m-> 1104\u001B[0m     \u001B[38;5;28;43mself\u001B[39;49m\u001B[38;5;241;43m.\u001B[39;49m\u001B[43m_update_retryable\u001B[49m\u001B[43m(\u001B[49m\n\u001B[1;32m   1105\u001B[0m \u001B[43m        \u001B[49m\u001B[38;5;28;43mfilter\u001B[39;49m\u001B[43m,\u001B[49m\u001B[43m \u001B[49m\u001B[43mupdate\u001B[49m\u001B[43m,\u001B[49m\u001B[43m \u001B[49m\u001B[43mupsert\u001B[49m\u001B[43m,\u001B[49m\u001B[43m \u001B[49m\u001B[43mcheck_keys\u001B[49m\u001B[38;5;241;43m=\u001B[39;49m\u001B[38;5;28;43;01mFalse\u001B[39;49;00m\u001B[43m,\u001B[49m\u001B[43m \u001B[49m\u001B[43mmulti\u001B[49m\u001B[38;5;241;43m=\u001B[39;49m\u001B[38;5;28;43;01mTrue\u001B[39;49;00m\u001B[43m,\u001B[49m\n\u001B[1;32m   1106\u001B[0m \u001B[43m        \u001B[49m\u001B[43mwrite_concern\u001B[49m\u001B[38;5;241;43m=\u001B[39;49m\u001B[43mwrite_concern\u001B[49m\u001B[43m,\u001B[49m\n\u001B[1;32m   1107\u001B[0m \u001B[43m        \u001B[49m\u001B[43mbypass_doc_val\u001B[49m\u001B[38;5;241;43m=\u001B[39;49m\u001B[43mbypass_document_validation\u001B[49m\u001B[43m,\u001B[49m\n\u001B[1;32m   1108\u001B[0m \u001B[43m        \u001B[49m\u001B[43mcollation\u001B[49m\u001B[38;5;241;43m=\u001B[39;49m\u001B[43mcollation\u001B[49m\u001B[43m,\u001B[49m\u001B[43m \u001B[49m\u001B[43marray_filters\u001B[49m\u001B[38;5;241;43m=\u001B[39;49m\u001B[43marray_filters\u001B[49m\u001B[43m,\u001B[49m\n\u001B[1;32m   1109\u001B[0m \u001B[43m        \u001B[49m\u001B[43mhint\u001B[49m\u001B[38;5;241;43m=\u001B[39;49m\u001B[43mhint\u001B[49m\u001B[43m,\u001B[49m\u001B[43m \u001B[49m\u001B[43msession\u001B[49m\u001B[38;5;241;43m=\u001B[39;49m\u001B[43msession\u001B[49m\u001B[43m)\u001B[49m,\n\u001B[1;32m   1110\u001B[0m     write_concern\u001B[38;5;241m.\u001B[39macknowledged)\n",
      "File \u001B[0;32m~/opt/anaconda3/envs/ds/lib/python3.9/site-packages/pymongo/collection.py:877\u001B[0m, in \u001B[0;36mCollection._update_retryable\u001B[0;34m(self, criteria, document, upsert, check_keys, multi, manipulate, write_concern, op_id, ordered, bypass_doc_val, collation, array_filters, hint, session)\u001B[0m\n\u001B[1;32m    868\u001B[0m \u001B[38;5;28;01mdef\u001B[39;00m \u001B[38;5;21m_update\u001B[39m(session, sock_info, retryable_write):\n\u001B[1;32m    869\u001B[0m     \u001B[38;5;28;01mreturn\u001B[39;00m \u001B[38;5;28mself\u001B[39m\u001B[38;5;241m.\u001B[39m_update(\n\u001B[1;32m    870\u001B[0m         sock_info, criteria, document, upsert\u001B[38;5;241m=\u001B[39mupsert,\n\u001B[1;32m    871\u001B[0m         check_keys\u001B[38;5;241m=\u001B[39mcheck_keys, multi\u001B[38;5;241m=\u001B[39mmulti, manipulate\u001B[38;5;241m=\u001B[39mmanipulate,\n\u001B[0;32m   (...)\u001B[0m\n\u001B[1;32m    874\u001B[0m         array_filters\u001B[38;5;241m=\u001B[39marray_filters, hint\u001B[38;5;241m=\u001B[39mhint, session\u001B[38;5;241m=\u001B[39msession,\n\u001B[1;32m    875\u001B[0m         retryable_write\u001B[38;5;241m=\u001B[39mretryable_write)\n\u001B[0;32m--> 877\u001B[0m \u001B[38;5;28;01mreturn\u001B[39;00m \u001B[38;5;28;43mself\u001B[39;49m\u001B[38;5;241;43m.\u001B[39;49m\u001B[43m__database\u001B[49m\u001B[38;5;241;43m.\u001B[39;49m\u001B[43mclient\u001B[49m\u001B[38;5;241;43m.\u001B[39;49m\u001B[43m_retryable_write\u001B[49m\u001B[43m(\u001B[49m\n\u001B[1;32m    878\u001B[0m \u001B[43m    \u001B[49m\u001B[43m(\u001B[49m\u001B[43mwrite_concern\u001B[49m\u001B[43m \u001B[49m\u001B[38;5;129;43;01mor\u001B[39;49;00m\u001B[43m \u001B[49m\u001B[38;5;28;43mself\u001B[39;49m\u001B[38;5;241;43m.\u001B[39;49m\u001B[43mwrite_concern\u001B[49m\u001B[43m)\u001B[49m\u001B[38;5;241;43m.\u001B[39;49m\u001B[43macknowledged\u001B[49m\u001B[43m \u001B[49m\u001B[38;5;129;43;01mand\u001B[39;49;00m\u001B[43m \u001B[49m\u001B[38;5;129;43;01mnot\u001B[39;49;00m\u001B[43m \u001B[49m\u001B[43mmulti\u001B[49m\u001B[43m,\u001B[49m\n\u001B[1;32m    879\u001B[0m \u001B[43m    \u001B[49m\u001B[43m_update\u001B[49m\u001B[43m,\u001B[49m\u001B[43m \u001B[49m\u001B[43msession\u001B[49m\u001B[43m)\u001B[49m\n",
      "File \u001B[0;32m~/opt/anaconda3/envs/ds/lib/python3.9/site-packages/pymongo/mongo_client.py:1552\u001B[0m, in \u001B[0;36mMongoClient._retryable_write\u001B[0;34m(self, retryable, func, session)\u001B[0m\n\u001B[1;32m   1550\u001B[0m \u001B[38;5;124;03m\"\"\"Internal retryable write helper.\"\"\"\u001B[39;00m\n\u001B[1;32m   1551\u001B[0m \u001B[38;5;28;01mwith\u001B[39;00m \u001B[38;5;28mself\u001B[39m\u001B[38;5;241m.\u001B[39m_tmp_session(session) \u001B[38;5;28;01mas\u001B[39;00m s:\n\u001B[0;32m-> 1552\u001B[0m     \u001B[38;5;28;01mreturn\u001B[39;00m \u001B[38;5;28;43mself\u001B[39;49m\u001B[38;5;241;43m.\u001B[39;49m\u001B[43m_retry_with_session\u001B[49m\u001B[43m(\u001B[49m\u001B[43mretryable\u001B[49m\u001B[43m,\u001B[49m\u001B[43m \u001B[49m\u001B[43mfunc\u001B[49m\u001B[43m,\u001B[49m\u001B[43m \u001B[49m\u001B[43ms\u001B[49m\u001B[43m,\u001B[49m\u001B[43m \u001B[49m\u001B[38;5;28;43;01mNone\u001B[39;49;00m\u001B[43m)\u001B[49m\n",
      "File \u001B[0;32m~/opt/anaconda3/envs/ds/lib/python3.9/site-packages/pymongo/mongo_client.py:1438\u001B[0m, in \u001B[0;36mMongoClient._retry_with_session\u001B[0;34m(self, retryable, func, session, bulk)\u001B[0m\n\u001B[1;32m   1429\u001B[0m \u001B[38;5;124;03m\"\"\"Execute an operation with at most one consecutive retries\u001B[39;00m\n\u001B[1;32m   1430\u001B[0m \n\u001B[1;32m   1431\u001B[0m \u001B[38;5;124;03mReturns func()'s return value on success. On error retries the same\u001B[39;00m\n\u001B[0;32m   (...)\u001B[0m\n\u001B[1;32m   1434\u001B[0m \u001B[38;5;124;03mRe-raises any exception thrown by func().\u001B[39;00m\n\u001B[1;32m   1435\u001B[0m \u001B[38;5;124;03m\"\"\"\u001B[39;00m\n\u001B[1;32m   1436\u001B[0m retryable \u001B[38;5;241m=\u001B[39m (retryable \u001B[38;5;129;01mand\u001B[39;00m \u001B[38;5;28mself\u001B[39m\u001B[38;5;241m.\u001B[39mretry_writes\n\u001B[1;32m   1437\u001B[0m              \u001B[38;5;129;01mand\u001B[39;00m session \u001B[38;5;129;01mand\u001B[39;00m \u001B[38;5;129;01mnot\u001B[39;00m session\u001B[38;5;241m.\u001B[39min_transaction)\n\u001B[0;32m-> 1438\u001B[0m \u001B[38;5;28;01mreturn\u001B[39;00m \u001B[38;5;28;43mself\u001B[39;49m\u001B[38;5;241;43m.\u001B[39;49m\u001B[43m_retry_internal\u001B[49m\u001B[43m(\u001B[49m\u001B[43mretryable\u001B[49m\u001B[43m,\u001B[49m\u001B[43m \u001B[49m\u001B[43mfunc\u001B[49m\u001B[43m,\u001B[49m\u001B[43m \u001B[49m\u001B[43msession\u001B[49m\u001B[43m,\u001B[49m\u001B[43m \u001B[49m\u001B[43mbulk\u001B[49m\u001B[43m)\u001B[49m\n",
      "File \u001B[0;32m~/opt/anaconda3/envs/ds/lib/python3.9/site-packages/pymongo/mongo_client.py:1470\u001B[0m, in \u001B[0;36mMongoClient._retry_internal\u001B[0;34m(self, retryable, func, session, bulk)\u001B[0m\n\u001B[1;32m   1468\u001B[0m                 \u001B[38;5;28;01mraise\u001B[39;00m last_error\n\u001B[1;32m   1469\u001B[0m             retryable \u001B[38;5;241m=\u001B[39m \u001B[38;5;28;01mFalse\u001B[39;00m\n\u001B[0;32m-> 1470\u001B[0m         \u001B[38;5;28;01mreturn\u001B[39;00m \u001B[43mfunc\u001B[49m\u001B[43m(\u001B[49m\u001B[43msession\u001B[49m\u001B[43m,\u001B[49m\u001B[43m \u001B[49m\u001B[43msock_info\u001B[49m\u001B[43m,\u001B[49m\u001B[43m \u001B[49m\u001B[43mretryable\u001B[49m\u001B[43m)\u001B[49m\n\u001B[1;32m   1471\u001B[0m \u001B[38;5;28;01mexcept\u001B[39;00m ServerSelectionTimeoutError:\n\u001B[1;32m   1472\u001B[0m     \u001B[38;5;28;01mif\u001B[39;00m is_retrying():\n\u001B[1;32m   1473\u001B[0m         \u001B[38;5;66;03m# The application may think the write was never attempted\u001B[39;00m\n\u001B[1;32m   1474\u001B[0m         \u001B[38;5;66;03m# if we raise ServerSelectionTimeoutError on the retry\u001B[39;00m\n\u001B[1;32m   1475\u001B[0m         \u001B[38;5;66;03m# attempt. Raise the original exception instead.\u001B[39;00m\n",
      "File \u001B[0;32m~/opt/anaconda3/envs/ds/lib/python3.9/site-packages/pymongo/collection.py:869\u001B[0m, in \u001B[0;36mCollection._update_retryable.<locals>._update\u001B[0;34m(session, sock_info, retryable_write)\u001B[0m\n\u001B[1;32m    868\u001B[0m \u001B[38;5;28;01mdef\u001B[39;00m \u001B[38;5;21m_update\u001B[39m(session, sock_info, retryable_write):\n\u001B[0;32m--> 869\u001B[0m     \u001B[38;5;28;01mreturn\u001B[39;00m \u001B[38;5;28;43mself\u001B[39;49m\u001B[38;5;241;43m.\u001B[39;49m\u001B[43m_update\u001B[49m\u001B[43m(\u001B[49m\n\u001B[1;32m    870\u001B[0m \u001B[43m        \u001B[49m\u001B[43msock_info\u001B[49m\u001B[43m,\u001B[49m\u001B[43m \u001B[49m\u001B[43mcriteria\u001B[49m\u001B[43m,\u001B[49m\u001B[43m \u001B[49m\u001B[43mdocument\u001B[49m\u001B[43m,\u001B[49m\u001B[43m \u001B[49m\u001B[43mupsert\u001B[49m\u001B[38;5;241;43m=\u001B[39;49m\u001B[43mupsert\u001B[49m\u001B[43m,\u001B[49m\n\u001B[1;32m    871\u001B[0m \u001B[43m        \u001B[49m\u001B[43mcheck_keys\u001B[49m\u001B[38;5;241;43m=\u001B[39;49m\u001B[43mcheck_keys\u001B[49m\u001B[43m,\u001B[49m\u001B[43m \u001B[49m\u001B[43mmulti\u001B[49m\u001B[38;5;241;43m=\u001B[39;49m\u001B[43mmulti\u001B[49m\u001B[43m,\u001B[49m\u001B[43m \u001B[49m\u001B[43mmanipulate\u001B[49m\u001B[38;5;241;43m=\u001B[39;49m\u001B[43mmanipulate\u001B[49m\u001B[43m,\u001B[49m\n\u001B[1;32m    872\u001B[0m \u001B[43m        \u001B[49m\u001B[43mwrite_concern\u001B[49m\u001B[38;5;241;43m=\u001B[39;49m\u001B[43mwrite_concern\u001B[49m\u001B[43m,\u001B[49m\u001B[43m \u001B[49m\u001B[43mop_id\u001B[49m\u001B[38;5;241;43m=\u001B[39;49m\u001B[43mop_id\u001B[49m\u001B[43m,\u001B[49m\u001B[43m \u001B[49m\u001B[43mordered\u001B[49m\u001B[38;5;241;43m=\u001B[39;49m\u001B[43mordered\u001B[49m\u001B[43m,\u001B[49m\n\u001B[1;32m    873\u001B[0m \u001B[43m        \u001B[49m\u001B[43mbypass_doc_val\u001B[49m\u001B[38;5;241;43m=\u001B[39;49m\u001B[43mbypass_doc_val\u001B[49m\u001B[43m,\u001B[49m\u001B[43m \u001B[49m\u001B[43mcollation\u001B[49m\u001B[38;5;241;43m=\u001B[39;49m\u001B[43mcollation\u001B[49m\u001B[43m,\u001B[49m\n\u001B[1;32m    874\u001B[0m \u001B[43m        \u001B[49m\u001B[43marray_filters\u001B[49m\u001B[38;5;241;43m=\u001B[39;49m\u001B[43marray_filters\u001B[49m\u001B[43m,\u001B[49m\u001B[43m \u001B[49m\u001B[43mhint\u001B[49m\u001B[38;5;241;43m=\u001B[39;49m\u001B[43mhint\u001B[49m\u001B[43m,\u001B[49m\u001B[43m \u001B[49m\u001B[43msession\u001B[49m\u001B[38;5;241;43m=\u001B[39;49m\u001B[43msession\u001B[49m\u001B[43m,\u001B[49m\n\u001B[1;32m    875\u001B[0m \u001B[43m        \u001B[49m\u001B[43mretryable_write\u001B[49m\u001B[38;5;241;43m=\u001B[39;49m\u001B[43mretryable_write\u001B[49m\u001B[43m)\u001B[49m\n",
      "File \u001B[0;32m~/opt/anaconda3/envs/ds/lib/python3.9/site-packages/pymongo/collection.py:838\u001B[0m, in \u001B[0;36mCollection._update\u001B[0;34m(self, sock_info, criteria, document, upsert, check_keys, multi, manipulate, write_concern, op_id, ordered, bypass_doc_val, collation, array_filters, hint, session, retryable_write)\u001B[0m\n\u001B[1;32m    834\u001B[0m     command[\u001B[38;5;124m'\u001B[39m\u001B[38;5;124mbypassDocumentValidation\u001B[39m\u001B[38;5;124m'\u001B[39m] \u001B[38;5;241m=\u001B[39m \u001B[38;5;28;01mTrue\u001B[39;00m\n\u001B[1;32m    836\u001B[0m \u001B[38;5;66;03m# The command result has to be published for APM unmodified\u001B[39;00m\n\u001B[1;32m    837\u001B[0m \u001B[38;5;66;03m# so we make a shallow copy here before adding updatedExisting.\u001B[39;00m\n\u001B[0;32m--> 838\u001B[0m result \u001B[38;5;241m=\u001B[39m \u001B[43msock_info\u001B[49m\u001B[38;5;241;43m.\u001B[39;49m\u001B[43mcommand\u001B[49m\u001B[43m(\u001B[49m\n\u001B[1;32m    839\u001B[0m \u001B[43m    \u001B[49m\u001B[38;5;28;43mself\u001B[39;49m\u001B[38;5;241;43m.\u001B[39;49m\u001B[43m__database\u001B[49m\u001B[38;5;241;43m.\u001B[39;49m\u001B[43mname\u001B[49m\u001B[43m,\u001B[49m\n\u001B[1;32m    840\u001B[0m \u001B[43m    \u001B[49m\u001B[43mcommand\u001B[49m\u001B[43m,\u001B[49m\n\u001B[1;32m    841\u001B[0m \u001B[43m    \u001B[49m\u001B[43mwrite_concern\u001B[49m\u001B[38;5;241;43m=\u001B[39;49m\u001B[43mwrite_concern\u001B[49m\u001B[43m,\u001B[49m\n\u001B[1;32m    842\u001B[0m \u001B[43m    \u001B[49m\u001B[43mcodec_options\u001B[49m\u001B[38;5;241;43m=\u001B[39;49m\u001B[38;5;28;43mself\u001B[39;49m\u001B[38;5;241;43m.\u001B[39;49m\u001B[43m__write_response_codec_options\u001B[49m\u001B[43m,\u001B[49m\n\u001B[1;32m    843\u001B[0m \u001B[43m    \u001B[49m\u001B[43msession\u001B[49m\u001B[38;5;241;43m=\u001B[39;49m\u001B[43msession\u001B[49m\u001B[43m,\u001B[49m\n\u001B[1;32m    844\u001B[0m \u001B[43m    \u001B[49m\u001B[43mclient\u001B[49m\u001B[38;5;241;43m=\u001B[39;49m\u001B[38;5;28;43mself\u001B[39;49m\u001B[38;5;241;43m.\u001B[39;49m\u001B[43m__database\u001B[49m\u001B[38;5;241;43m.\u001B[39;49m\u001B[43mclient\u001B[49m\u001B[43m,\u001B[49m\n\u001B[1;32m    845\u001B[0m \u001B[43m    \u001B[49m\u001B[43mretryable_write\u001B[49m\u001B[38;5;241;43m=\u001B[39;49m\u001B[43mretryable_write\u001B[49m\u001B[43m)\u001B[49m\u001B[38;5;241m.\u001B[39mcopy()\n\u001B[1;32m    846\u001B[0m _check_write_command_response(result)\n\u001B[1;32m    847\u001B[0m \u001B[38;5;66;03m# Add the updatedExisting field for compatibility.\u001B[39;00m\n",
      "File \u001B[0;32m~/opt/anaconda3/envs/ds/lib/python3.9/site-packages/pymongo/pool.py:726\u001B[0m, in \u001B[0;36mSocketInfo.command\u001B[0;34m(self, dbname, spec, secondary_ok, read_preference, codec_options, check, allowable_errors, check_keys, read_concern, write_concern, parse_write_concern_error, collation, session, client, retryable_write, publish_events, user_fields, exhaust_allowed)\u001B[0m\n\u001B[1;32m    724\u001B[0m \u001B[38;5;66;03m# Catch socket.error, KeyboardInterrupt, etc. and close ourselves.\u001B[39;00m\n\u001B[1;32m    725\u001B[0m \u001B[38;5;28;01mexcept\u001B[39;00m \u001B[38;5;167;01mBaseException\u001B[39;00m \u001B[38;5;28;01mas\u001B[39;00m error:\n\u001B[0;32m--> 726\u001B[0m     \u001B[38;5;28;43mself\u001B[39;49m\u001B[38;5;241;43m.\u001B[39;49m\u001B[43m_raise_connection_failure\u001B[49m\u001B[43m(\u001B[49m\u001B[43merror\u001B[49m\u001B[43m)\u001B[49m\n",
      "File \u001B[0;32m~/opt/anaconda3/envs/ds/lib/python3.9/site-packages/pymongo/pool.py:710\u001B[0m, in \u001B[0;36mSocketInfo.command\u001B[0;34m(self, dbname, spec, secondary_ok, read_preference, codec_options, check, allowable_errors, check_keys, read_concern, write_concern, parse_write_concern_error, collation, session, client, retryable_write, publish_events, user_fields, exhaust_allowed)\u001B[0m\n\u001B[1;32m    708\u001B[0m     \u001B[38;5;28mself\u001B[39m\u001B[38;5;241m.\u001B[39m_raise_if_not_writable(unacknowledged)\n\u001B[1;32m    709\u001B[0m \u001B[38;5;28;01mtry\u001B[39;00m:\n\u001B[0;32m--> 710\u001B[0m     \u001B[38;5;28;01mreturn\u001B[39;00m \u001B[43mcommand\u001B[49m\u001B[43m(\u001B[49m\u001B[38;5;28;43mself\u001B[39;49m\u001B[43m,\u001B[49m\u001B[43m \u001B[49m\u001B[43mdbname\u001B[49m\u001B[43m,\u001B[49m\u001B[43m \u001B[49m\u001B[43mspec\u001B[49m\u001B[43m,\u001B[49m\u001B[43m \u001B[49m\u001B[43msecondary_ok\u001B[49m\u001B[43m,\u001B[49m\n\u001B[1;32m    711\u001B[0m \u001B[43m                   \u001B[49m\u001B[38;5;28;43mself\u001B[39;49m\u001B[38;5;241;43m.\u001B[39;49m\u001B[43mis_mongos\u001B[49m\u001B[43m,\u001B[49m\u001B[43m \u001B[49m\u001B[43mread_preference\u001B[49m\u001B[43m,\u001B[49m\u001B[43m \u001B[49m\u001B[43mcodec_options\u001B[49m\u001B[43m,\u001B[49m\n\u001B[1;32m    712\u001B[0m \u001B[43m                   \u001B[49m\u001B[43msession\u001B[49m\u001B[43m,\u001B[49m\u001B[43m \u001B[49m\u001B[43mclient\u001B[49m\u001B[43m,\u001B[49m\u001B[43m \u001B[49m\u001B[43mcheck\u001B[49m\u001B[43m,\u001B[49m\u001B[43m \u001B[49m\u001B[43mallowable_errors\u001B[49m\u001B[43m,\u001B[49m\n\u001B[1;32m    713\u001B[0m \u001B[43m                   \u001B[49m\u001B[38;5;28;43mself\u001B[39;49m\u001B[38;5;241;43m.\u001B[39;49m\u001B[43maddress\u001B[49m\u001B[43m,\u001B[49m\u001B[43m \u001B[49m\u001B[43mcheck_keys\u001B[49m\u001B[43m,\u001B[49m\u001B[43m \u001B[49m\u001B[43mlisteners\u001B[49m\u001B[43m,\u001B[49m\n\u001B[1;32m    714\u001B[0m \u001B[43m                   \u001B[49m\u001B[38;5;28;43mself\u001B[39;49m\u001B[38;5;241;43m.\u001B[39;49m\u001B[43mmax_bson_size\u001B[49m\u001B[43m,\u001B[49m\u001B[43m \u001B[49m\u001B[43mread_concern\u001B[49m\u001B[43m,\u001B[49m\n\u001B[1;32m    715\u001B[0m \u001B[43m                   \u001B[49m\u001B[43mparse_write_concern_error\u001B[49m\u001B[38;5;241;43m=\u001B[39;49m\u001B[43mparse_write_concern_error\u001B[49m\u001B[43m,\u001B[49m\n\u001B[1;32m    716\u001B[0m \u001B[43m                   \u001B[49m\u001B[43mcollation\u001B[49m\u001B[38;5;241;43m=\u001B[39;49m\u001B[43mcollation\u001B[49m\u001B[43m,\u001B[49m\n\u001B[1;32m    717\u001B[0m \u001B[43m                   \u001B[49m\u001B[43mcompression_ctx\u001B[49m\u001B[38;5;241;43m=\u001B[39;49m\u001B[38;5;28;43mself\u001B[39;49m\u001B[38;5;241;43m.\u001B[39;49m\u001B[43mcompression_context\u001B[49m\u001B[43m,\u001B[49m\n\u001B[1;32m    718\u001B[0m \u001B[43m                   \u001B[49m\u001B[43muse_op_msg\u001B[49m\u001B[38;5;241;43m=\u001B[39;49m\u001B[38;5;28;43mself\u001B[39;49m\u001B[38;5;241;43m.\u001B[39;49m\u001B[43mop_msg_enabled\u001B[49m\u001B[43m,\u001B[49m\n\u001B[1;32m    719\u001B[0m \u001B[43m                   \u001B[49m\u001B[43munacknowledged\u001B[49m\u001B[38;5;241;43m=\u001B[39;49m\u001B[43munacknowledged\u001B[49m\u001B[43m,\u001B[49m\n\u001B[1;32m    720\u001B[0m \u001B[43m                   \u001B[49m\u001B[43muser_fields\u001B[49m\u001B[38;5;241;43m=\u001B[39;49m\u001B[43muser_fields\u001B[49m\u001B[43m,\u001B[49m\n\u001B[1;32m    721\u001B[0m \u001B[43m                   \u001B[49m\u001B[43mexhaust_allowed\u001B[49m\u001B[38;5;241;43m=\u001B[39;49m\u001B[43mexhaust_allowed\u001B[49m\u001B[43m)\u001B[49m\n\u001B[1;32m    722\u001B[0m \u001B[38;5;28;01mexcept\u001B[39;00m (OperationFailure, NotPrimaryError):\n\u001B[1;32m    723\u001B[0m     \u001B[38;5;28;01mraise\u001B[39;00m\n",
      "File \u001B[0;32m~/opt/anaconda3/envs/ds/lib/python3.9/site-packages/pymongo/network.py:149\u001B[0m, in \u001B[0;36mcommand\u001B[0;34m(sock_info, dbname, spec, secondary_ok, is_mongos, read_preference, codec_options, session, client, check, allowable_errors, address, check_keys, listeners, max_bson_size, read_concern, parse_write_concern_error, collation, compression_ctx, use_op_msg, unacknowledged, user_fields, exhaust_allowed)\u001B[0m\n\u001B[1;32m    147\u001B[0m     response_doc \u001B[38;5;241m=\u001B[39m {\u001B[38;5;124m\"\u001B[39m\u001B[38;5;124mok\u001B[39m\u001B[38;5;124m\"\u001B[39m: \u001B[38;5;241m1\u001B[39m}\n\u001B[1;32m    148\u001B[0m \u001B[38;5;28;01melse\u001B[39;00m:\n\u001B[0;32m--> 149\u001B[0m     reply \u001B[38;5;241m=\u001B[39m \u001B[43mreceive_message\u001B[49m\u001B[43m(\u001B[49m\u001B[43msock_info\u001B[49m\u001B[43m,\u001B[49m\u001B[43m \u001B[49m\u001B[43mrequest_id\u001B[49m\u001B[43m)\u001B[49m\n\u001B[1;32m    150\u001B[0m     sock_info\u001B[38;5;241m.\u001B[39mmore_to_come \u001B[38;5;241m=\u001B[39m reply\u001B[38;5;241m.\u001B[39mmore_to_come\n\u001B[1;32m    151\u001B[0m     unpacked_docs \u001B[38;5;241m=\u001B[39m reply\u001B[38;5;241m.\u001B[39munpack_response(\n\u001B[1;32m    152\u001B[0m         codec_options\u001B[38;5;241m=\u001B[39mcodec_options, user_fields\u001B[38;5;241m=\u001B[39muser_fields)\n",
      "File \u001B[0;32m~/opt/anaconda3/envs/ds/lib/python3.9/site-packages/pymongo/network.py:196\u001B[0m, in \u001B[0;36mreceive_message\u001B[0;34m(sock_info, request_id, max_message_size)\u001B[0m\n\u001B[1;32m    193\u001B[0m     deadline \u001B[38;5;241m=\u001B[39m \u001B[38;5;28;01mNone\u001B[39;00m\n\u001B[1;32m    194\u001B[0m \u001B[38;5;66;03m# Ignore the response's request id.\u001B[39;00m\n\u001B[1;32m    195\u001B[0m length, _, response_to, op_code \u001B[38;5;241m=\u001B[39m _UNPACK_HEADER(\n\u001B[0;32m--> 196\u001B[0m     \u001B[43m_receive_data_on_socket\u001B[49m\u001B[43m(\u001B[49m\u001B[43msock_info\u001B[49m\u001B[43m,\u001B[49m\u001B[43m \u001B[49m\u001B[38;5;241;43m16\u001B[39;49m\u001B[43m,\u001B[49m\u001B[43m \u001B[49m\u001B[43mdeadline\u001B[49m\u001B[43m)\u001B[49m)\n\u001B[1;32m    197\u001B[0m \u001B[38;5;66;03m# No request_id for exhaust cursor \"getMore\".\u001B[39;00m\n\u001B[1;32m    198\u001B[0m \u001B[38;5;28;01mif\u001B[39;00m request_id \u001B[38;5;129;01mis\u001B[39;00m \u001B[38;5;129;01mnot\u001B[39;00m \u001B[38;5;28;01mNone\u001B[39;00m:\n",
      "File \u001B[0;32m~/opt/anaconda3/envs/ds/lib/python3.9/site-packages/pymongo/network.py:287\u001B[0m, in \u001B[0;36m_receive_data_on_socket\u001B[0;34m(sock_info, length, deadline)\u001B[0m\n\u001B[1;32m    285\u001B[0m \u001B[38;5;28;01mtry\u001B[39;00m:\n\u001B[1;32m    286\u001B[0m     wait_for_read(sock_info, deadline)\n\u001B[0;32m--> 287\u001B[0m     chunk_length \u001B[38;5;241m=\u001B[39m \u001B[43msock_info\u001B[49m\u001B[38;5;241;43m.\u001B[39;49m\u001B[43msock\u001B[49m\u001B[38;5;241;43m.\u001B[39;49m\u001B[43mrecv_into\u001B[49m\u001B[43m(\u001B[49m\u001B[43mmv\u001B[49m\u001B[43m[\u001B[49m\u001B[43mbytes_read\u001B[49m\u001B[43m:\u001B[49m\u001B[43m]\u001B[49m\u001B[43m)\u001B[49m\n\u001B[1;32m    288\u001B[0m \u001B[38;5;28;01mexcept\u001B[39;00m (\u001B[38;5;167;01mIOError\u001B[39;00m, \u001B[38;5;167;01mOSError\u001B[39;00m) \u001B[38;5;28;01mas\u001B[39;00m exc:\n\u001B[1;32m    289\u001B[0m     \u001B[38;5;28;01mif\u001B[39;00m _errno_from_exception(exc) \u001B[38;5;241m==\u001B[39m errno\u001B[38;5;241m.\u001B[39mEINTR:\n",
      "\u001B[0;31mKeyboardInterrupt\u001B[0m: "
     ]
    }
   ],
   "source": [
    "# Update each review with an adjusted score\n",
    "\n",
    "pipeline = [\n",
    "    {\n",
    "        \"$addFields\": {\n",
    "            \"adjusted_score\": {\n",
    "                \"$switch\": {\n",
    "                    \"branches\": [\n",
    "                        {\n",
    "                            \"case\": { \"$lt\": [ \"$stars\", 3 ] },\n",
    "                            \"then\": { \"$subtract\": [ \"$stars\", { \"$cond\": [{ \"$gt\": [\"$useful\", 0]}, { \"$ln\": \"$useful\"}, 0] }] }\n",
    "                        },\n",
    "                        {\n",
    "                            \"case\": { \"$gt\": [ \"$stars\", 3 ] },\n",
    "                            \"then\": { \"$add\": [ \"$stars\", { \"$cond\": [{ \"$gt\": [\"$useful\", 0]}, { \"$ln\": \"$useful\"}, 0] }] }\n",
    "                        }\n",
    "                    ],\n",
    "                    \"default\": \"$stars\"\n",
    "                }\n",
    "            }\n",
    "        }\n",
    "    }\n",
    "]\n",
    "\n",
    "reviews.update_many({}, pipeline)"
   ],
   "metadata": {
    "collapsed": false,
    "ExecuteTime": {
     "start_time": "2023-04-01T15:18:31.972608Z",
     "end_time": "2023-04-01T15:22:06.172428Z"
    }
   }
  },
  {
   "cell_type": "code",
   "execution_count": 146,
   "outputs": [
    {
     "data": {
      "text/plain": "<pymongo.results.BulkWriteResult at 0x7fc059294d80>"
     },
     "execution_count": 146,
     "metadata": {},
     "output_type": "execute_result"
    }
   ],
   "source": [
    "pipeline = [\n",
    "    {\"$group\": {\"_id\": \"$business_id\", \"average_adj_score\": {\"$avg\": \"$adjusted_score\"}}}\n",
    "]\n",
    "result = list(reviews.aggregate(pipeline))\n",
    "\n",
    "# create list of bulk write operations\n",
    "operations = []\n",
    "for pair in result:\n",
    "    operations.append(\n",
    "        pymongo.UpdateOne({'business_id': pair['_id']}, {'$set': {'average_adj_score': pair['average_adj_score']}})\n",
    "    )\n",
    "\n",
    "# perform bulk write operation\n",
    "restaurants.bulk_write(operations)"
   ],
   "metadata": {
    "collapsed": false,
    "ExecuteTime": {
     "start_time": "2023-04-01T17:28:38.763969Z",
     "end_time": "2023-04-01T19:26:06.240055Z"
    }
   }
  },
  {
   "cell_type": "code",
   "execution_count": 166,
   "outputs": [
    {
     "data": {
      "text/plain": "0.6666666666666666"
     },
     "execution_count": 166,
     "metadata": {},
     "output_type": "execute_result"
    }
   ],
   "source": [
    "avg_adj_score = 1\n",
    "num_reviews = 10\n",
    "(avg_adj_score * num_reviews) / (num_reviews + 5)"
   ],
   "metadata": {
    "collapsed": false,
    "ExecuteTime": {
     "start_time": "2023-04-02T10:12:19.489042Z",
     "end_time": "2023-04-02T10:12:19.493896Z"
    }
   }
  },
  {
   "cell_type": "code",
   "execution_count": 147,
   "outputs": [
    {
     "data": {
      "text/plain": "<pymongo.results.UpdateResult at 0x7fc05a522e00>"
     },
     "execution_count": 147,
     "metadata": {},
     "output_type": "execute_result"
    }
   ],
   "source": [
    "pipeline = [\n",
    "    {\"$addFields\": {\n",
    "        \"credibility_score\": {\n",
    "            \"$divide\": [\n",
    "                {\"$multiply\": [\"$average_adj_score\", \"$review_count\"]},\n",
    "                {\"$add\": [\"$review_count\", 5]}\n",
    "                ]\n",
    "            }\n",
    "        }\n",
    "    }\n",
    "]\n",
    "\n",
    "restaurants.update_many({}, pipeline)"
   ],
   "metadata": {
    "collapsed": false,
    "ExecuteTime": {
     "start_time": "2023-04-01T19:26:06.250490Z",
     "end_time": "2023-04-01T19:26:14.045989Z"
    }
   }
  },
  {
   "cell_type": "code",
   "execution_count": 177,
   "outputs": [
    {
     "data": {
      "text/plain": "<pymongo.results.UpdateResult at 0x7fbfcafb4680>"
     },
     "execution_count": 177,
     "metadata": {},
     "output_type": "execute_result"
    }
   ],
   "source": [
    "pipeline = [\n",
    "    {'$addFields': {\n",
    "        'coord': ['$latitude', '$longitude']\n",
    "    }}\n",
    "]\n",
    "\n",
    "restaurants.update_many({}, pipeline)"
   ],
   "metadata": {
    "collapsed": false,
    "ExecuteTime": {
     "start_time": "2023-04-02T10:22:19.718834Z",
     "end_time": "2023-04-02T10:22:27.093248Z"
    }
   }
  },
  {
   "cell_type": "code",
   "execution_count": 181,
   "outputs": [
    {
     "data": {
      "text/plain": "'restaurant.coord_2dsphere'"
     },
     "execution_count": 181,
     "metadata": {},
     "output_type": "execute_result"
    }
   ],
   "source": [
    "restaurants.create_index([('restaurant.coord', GEOSPHERE)])"
   ],
   "metadata": {
    "collapsed": false
   }
  },
  {
   "cell_type": "code",
   "execution_count": 183,
   "outputs": [],
   "source": [
    "\n",
    "def find_closest(coords):\n",
    "    pipeline = [\n",
    "        {'$geoNear' : {\n",
    "            'distanceField': 'dist.calculated',\n",
    "            'maxDistance': 100000000,\n",
    "            'near': {'type': \"Point\", 'coordinates': coords},\n",
    "            'spherical': True\n",
    "\n",
    "            }\n",
    "        },\n",
    "        {'$sort': {'dist.calculated': 1}\n",
    "         },\n",
    "        {\n",
    "        '$project': {\n",
    "            'name': 1,\n",
    "            'address': 1\n",
    "\n",
    "        }\n",
    "        },\n",
    "        {\n",
    "        '$limit': 10\n",
    "        }\n",
    "    ]\n",
    "    return list(restaurants.aggregate(pipeline))"
   ],
   "metadata": {
    "collapsed": false,
    "ExecuteTime": {
     "start_time": "2023-04-02T10:30:35.090816Z",
     "end_time": "2023-04-02T10:30:35.093688Z"
    }
   }
  },
  {
   "cell_type": "code",
   "execution_count": 178,
   "outputs": [
    {
     "data": {
      "text/plain": "{'_id': ObjectId('6428a1c1c0e805b4f6db16a3'),\n 'business_id': 'Pns2l4eNsfO8kk83dixA6A',\n 'name': 'Abby Rappoport, LAC, CMQ',\n 'address': '1616 Chapala St, Ste 2',\n 'city': 'Santa Barbara',\n 'state': 'CA',\n 'postal_code': '93101',\n 'latitude': 34.4266787,\n 'longitude': -119.7111968,\n 'stars': 5,\n 'review_count': 7,\n 'is_open': 0,\n 'attributes': {'ByAppointmentOnly': 'True'},\n 'categories': 'Doctors, Traditional Chinese Medicine, Naturopathic/Holistic, Acupuncture, Health & Medical, Nutritionists',\n 'hours': None,\n 'average_adj_score': 5.212129521398286,\n 'credibility_score': 3.0404088874823336,\n 'coord': [34.4266787, -119.7111968]}"
     },
     "execution_count": 178,
     "metadata": {},
     "output_type": "execute_result"
    }
   ],
   "source": [
    "restaurants.find_one()"
   ],
   "metadata": {
    "collapsed": false,
    "ExecuteTime": {
     "start_time": "2023-04-02T10:22:42.942194Z",
     "end_time": "2023-04-02T10:22:42.947391Z"
    }
   }
  }
 ],
 "metadata": {
  "kernelspec": {
   "display_name": "Python 3",
   "language": "python",
   "name": "python3"
  },
  "language_info": {
   "codemirror_mode": {
    "name": "ipython",
    "version": 2
   },
   "file_extension": ".py",
   "mimetype": "text/x-python",
   "name": "python",
   "nbconvert_exporter": "python",
   "pygments_lexer": "ipython2",
   "version": "2.7.6"
  }
 },
 "nbformat": 4,
 "nbformat_minor": 0
}
