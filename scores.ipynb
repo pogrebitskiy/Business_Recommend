{
 "cells": [
  {
   "cell_type": "code",
   "execution_count": 17,
   "metadata": {
    "collapsed": true,
    "ExecuteTime": {
     "start_time": "2023-03-31T13:44:55.755944Z",
     "end_time": "2023-03-31T13:44:55.765168Z"
    }
   },
   "outputs": [],
   "source": [
    "from pymongo import MongoClient\n",
    "from pprint import pprint\n",
    "from pprint import pprint\n",
    "import math\n",
    "import json"
   ]
  },
  {
   "cell_type": "code",
   "execution_count": 18,
   "outputs": [],
   "source": [
    "client = MongoClient()\n",
    "db = client['Restaurant_Recommend']\n",
    "restaurants = db['restaurant']\n",
    "reviews = db['review']"
   ],
   "metadata": {
    "collapsed": false,
    "ExecuteTime": {
     "start_time": "2023-03-31T13:44:55.762583Z",
     "end_time": "2023-03-31T13:44:55.787166Z"
    }
   }
  },
  {
   "cell_type": "code",
   "execution_count": 19,
   "outputs": [],
   "source": [
    "def calculate_usefulness_score(review):\n",
    "    rating = review['stars']\n",
    "    upvotes = review['useful']\n",
    "    if rating < 3:\n",
    "        return rating - math.log(upvotes)\n",
    "    elif rating > 3:\n",
    "        return rating + math.log(upvotes)\n",
    "\n",
    "    else:\n",
    "        return rating\n"
   ],
   "metadata": {
    "collapsed": false,
    "ExecuteTime": {
     "start_time": "2023-03-31T13:44:55.784662Z",
     "end_time": "2023-03-31T13:44:55.799749Z"
    }
   }
  },
  {
   "cell_type": "code",
   "execution_count": 20,
   "outputs": [],
   "source": [
    "j = {\n",
    " 'business_id': 'Pns2l4eNsfO8kk83dixA6A',\n",
    " 'cool': 1,\n",
    " 'date': '2012-05-02 18:07:38',\n",
    " 'funny': 2,\n",
    " 'review_id': '9vwYDBVI3ymdqcyJ5WW2Tg',\n",
    " 'stars': 3,\n",
    " 'text': \"I've had acupuncture treatments with Abby over the past few years \"\n",
    "         \"and I really can't say enough about how great my experiences have \"\n",
    "         'been.\\n'\n",
    "         '\\n'\n",
    "         'She has successfully treated me for everything from stress to colds '\n",
    "         'to menstrual cramps.  I was amazed that her medical qi gong '\n",
    "         \"treatments helped alleviate my chronic back pain.  I didn't think \"\n",
    "         'anything could help with that!  \\n'\n",
    "         '\\n'\n",
    "         'She is always very clear and upfront about treatments and '\n",
    "         'expectations.   And I love that she always has great advice on '\n",
    "         'herbs, supplements and natural remedies.\\n'\n",
    "         '\\n'\n",
    "         \"She just relocated to Los Gatos and I'm definitely going to miss \"\n",
    "         'having her in San Francisco!',\n",
    " 'useful': 3,\n",
    " 'user_id': 'e0imecnX_9MtLnS2rUZM-A'}"
   ],
   "metadata": {
    "collapsed": false,
    "ExecuteTime": {
     "start_time": "2023-03-31T13:44:55.796041Z",
     "end_time": "2023-03-31T13:44:55.805304Z"
    }
   }
  },
  {
   "cell_type": "code",
   "execution_count": 21,
   "outputs": [
    {
     "data": {
      "text/plain": "3"
     },
     "execution_count": 21,
     "metadata": {},
     "output_type": "execute_result"
    }
   ],
   "source": [
    "calculate_usefulness_score(j)"
   ],
   "metadata": {
    "collapsed": false,
    "ExecuteTime": {
     "start_time": "2023-03-31T13:44:55.804934Z",
     "end_time": "2023-03-31T13:44:55.814470Z"
    }
   }
  }
 ],
 "metadata": {
  "kernelspec": {
   "display_name": "Python 3",
   "language": "python",
   "name": "python3"
  },
  "language_info": {
   "codemirror_mode": {
    "name": "ipython",
    "version": 2
   },
   "file_extension": ".py",
   "mimetype": "text/x-python",
   "name": "python",
   "nbconvert_exporter": "python",
   "pygments_lexer": "ipython2",
   "version": "2.7.6"
  }
 },
 "nbformat": 4,
 "nbformat_minor": 0
}
